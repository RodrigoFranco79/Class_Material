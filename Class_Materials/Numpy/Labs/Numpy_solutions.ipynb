{
 "cells": [
  {
   "cell_type": "code",
   "execution_count": null,
   "id": "0095ec11",
   "metadata": {},
   "outputs": [],
   "source": [
    "\n",
    "\n",
    "# numpy exercises\n",
    "\n",
    "This is a collection of exercises that have been collected in the numpy mailing list, on stack overflow\n",
    "and in the numpy documentation. The goal of this collection is to offer a quick reference for both old\n",
    "and new users but also to provide a set of exercises for those who teach.\n",
    "\n",
    "\n",
    "If you find an error or think you've a better way to solve some of them, feel\n",
    "free to open an issue at <https://github.com/rougier/numpy-100>.\n",
    "File automatically generated. See the documentation to update questions/answers/hints programmatically.\n",
    "\n",
    "#### 1. Import the numpy package under the name `np` (★☆☆)\n",
    "`hint: import … as`\n",
    "\n",
    "#### 2. Create a null vector of size 10 (★☆☆)\n",
    "`hint: np.zeros`\n",
    "\n",
    "#### 3. Create a null vector of size 10 but the fifth value which is 1 (★☆☆)\n",
    "`hint: array[4]`\n",
    "\n",
    "#### 4. Create a vector with values ranging from 10 to 49 (★☆☆)\n",
    "`hint: arange`\n",
    "\n",
    "#### 5. Create a 3x3 matrix with values ranging from 0 to 8 (★☆☆)\n",
    "`hint: reshape`\n",
    "\n",
    "#### 6. Find indices of non-zero elements from [1,2,0,0,4,0] (★☆☆)\n",
    "`hint: np.nonzero`\n",
    "\n",
    "#### 7. Create a 3x3 identity matrix (★☆☆)\n",
    "`hint: np.eye`\n",
    "\n",
    "#### 8. Create a 3x3x3 array with random values (★☆☆)\n",
    "`hint: np.random.random`\n",
    "\n",
    "#### 9. Create a 10x10 array with random values and find the minimum and maximum values (★☆☆)\n",
    "`hint: min, max`\n",
    "\n",
    "#### 10. Create a random vector of size 30 and find the mean value (★☆☆)\n",
    "`hint: mean`\n",
    "\n",
    "#### 11. Create a 5x5 matrix with values 1,2,3,4 just below the diagonal (★☆☆)\n",
    "`hint: np.diag`\n",
    "\n",
    "#### 12. Normalize a 5x5 random matrix (★☆☆)\n",
    "`hint: (x -mean)/std`\n",
    "\n",
    "#### 13. How to find common values between two arrays? (★☆☆)\n",
    "`hint: np.intersect1d`\n",
    "\n",
    "#### 14. Create a random vector of size 10 and sort it (★★☆)\n",
    "`hint: sort`\n",
    "\n",
    "#### 15. Create random vector of size 10 and replace the maximum value by 0 (★★☆)\n",
    "`hint: argmax`\n",
    "\n",
    "#### 16. Subtract the mean of each row of a matrix (★★☆)\n",
    "`hint: mean(axis=,keepdims=)`\n",
    "\n",
    "#### 17. How to get the n largest values of an array (★★★)\n",
    "`Z = np.arange(10000)\n",
    "np.random.shuffle(Z)\n",
    "n = 5\n",
    "hint: np.argsort | np.argpartition`\n",
    "\n",
    "#### 18. Create a random 5*3 matrix and replace items that are larger than 4 by their squares ( Example:  6 --> 36) \n",
    "`hint: np.where`\n"
   ]
  },
  {
   "cell_type": "code",
   "execution_count": 14,
   "id": "2a660775",
   "metadata": {},
   "outputs": [],
   "source": [
    "# 1. Import the numpy package under the name `np` (★☆☆)\n",
    "import numpy as np\n"
   ]
  },
  {
   "cell_type": "code",
   "execution_count": 68,
   "id": "f2b57320",
   "metadata": {},
   "outputs": [
    {
     "data": {
      "text/plain": [
       "array([0., 0., 0., 0., 0., 0., 0., 0., 0., 0.])"
      ]
     },
     "execution_count": 68,
     "metadata": {},
     "output_type": "execute_result"
    }
   ],
   "source": [
    "# 2. Create a null vector of size 10 (★☆☆)\n",
    "a = np.zeros(10)\n",
    "a"
   ]
  },
  {
   "cell_type": "code",
   "execution_count": 19,
   "id": "0a92aea1",
   "metadata": {},
   "outputs": [
    {
     "data": {
      "text/plain": [
       "array([0., 0., 0., 0., 1., 0., 0., 0., 0., 0.])"
      ]
     },
     "execution_count": 19,
     "metadata": {},
     "output_type": "execute_result"
    }
   ],
   "source": [
    "# 3. Create a null vector of size 10 but the fifth value which is 1 (★☆☆)\n",
    "a[4]=1\n",
    "a"
   ]
  },
  {
   "cell_type": "code",
   "execution_count": 21,
   "id": "b8b545cb",
   "metadata": {},
   "outputs": [
    {
     "data": {
      "text/plain": [
       "array([10, 11, 12, 13, 14, 15, 16, 17, 18, 19, 20, 21, 22, 23, 24, 25, 26,\n",
       "       27, 28, 29, 30, 31, 32, 33, 34, 35, 36, 37, 38, 39, 40, 41, 42, 43,\n",
       "       44, 45, 46, 47, 48, 49])"
      ]
     },
     "execution_count": 21,
     "metadata": {},
     "output_type": "execute_result"
    }
   ],
   "source": [
    "# 4. Create a vector with values ranging from 10 to 49\n",
    "np.arange(10,50)"
   ]
  },
  {
   "cell_type": "code",
   "execution_count": 35,
   "id": "0ca49253",
   "metadata": {},
   "outputs": [
    {
     "name": "stdout",
     "output_type": "stream",
     "text": [
      "[[0 1 2]\n",
      " [3 4 5]\n",
      " [6 7 8]]\n"
     ]
    }
   ],
   "source": [
    "# 5. Create a 3x3 matrix with values ranging from 0 to 8 (★☆☆)\n",
    "b=np.arange(0,9).reshape(3,3)\n",
    "print(b)"
   ]
  },
  {
   "cell_type": "code",
   "execution_count": 43,
   "id": "93396c2c",
   "metadata": {},
   "outputs": [
    {
     "data": {
      "text/plain": [
       "(array([0, 1, 4]),)"
      ]
     },
     "execution_count": 43,
     "metadata": {},
     "output_type": "execute_result"
    }
   ],
   "source": [
    "# 6. Find indices of non-zero elements from [1,2,0,0,4,0] (★☆☆)\n",
    "non=[1,2,0,0,4,0]\n",
    "np.nonzero(non)"
   ]
  },
  {
   "cell_type": "code",
   "execution_count": 45,
   "id": "817002f3",
   "metadata": {},
   "outputs": [
    {
     "name": "stdout",
     "output_type": "stream",
     "text": [
      "[[1. 0. 0.]\n",
      " [0. 1. 0.]\n",
      " [0. 0. 1.]]\n"
     ]
    }
   ],
   "source": [
    "# 7. Create a 3x3 identity matrix (★☆☆)\n",
    "a= np.eye(3)\n",
    "print(a)"
   ]
  },
  {
   "cell_type": "code",
   "execution_count": 55,
   "id": "ccb7277f",
   "metadata": {},
   "outputs": [
    {
     "name": "stdout",
     "output_type": "stream",
     "text": [
      "[[[0.68218442 0.20608054 0.42607772]\n",
      "  [0.21148526 0.07623966 0.98082548]\n",
      "  [0.80583609 0.34902082 0.90562595]]\n",
      "\n",
      " [[0.81188097 0.70240161 0.69881773]\n",
      "  [0.12781562 0.59867493 0.60496614]\n",
      "  [0.50600236 0.47983209 0.14717411]]\n",
      "\n",
      " [[0.58376692 0.49015267 0.40785349]\n",
      "  [0.18555383 0.07849641 0.20991423]\n",
      "  [0.78073521 0.90143769 0.22352352]]]\n"
     ]
    }
   ],
   "source": [
    "# 8. Create a 3x3x3 array with random values (★☆☆)\n",
    "a = np.random.random((3,3,3))\n",
    "print(a)"
   ]
  },
  {
   "cell_type": "code",
   "execution_count": 66,
   "id": "0d37ff65",
   "metadata": {},
   "outputs": [
    {
     "name": "stdout",
     "output_type": "stream",
     "text": [
      "[[0.78924046 0.84462912 0.88270963 0.4267392  0.8993446  0.57878244\n",
      "  0.89629421 0.3978671  0.66720997 0.29191749]\n",
      " [0.35687526 0.4212169  0.11450617 0.94686989 0.89782283 0.40889378\n",
      "  0.86710949 0.78038949 0.38075732 0.73420318]\n",
      " [0.33981969 0.26943805 0.09862289 0.82138468 0.60653758 0.75546343\n",
      "  0.99010701 0.79099079 0.45892337 0.50749   ]\n",
      " [0.60462295 0.1540069  0.97895956 0.28015676 0.9751937  0.49096696\n",
      "  0.26187665 0.05916668 0.26941878 0.88657098]\n",
      " [0.0410613  0.62236023 0.98724398 0.73314401 0.51512877 0.06710206\n",
      "  0.47064958 0.24486451 0.5636143  0.47194498]\n",
      " [0.46739008 0.81387195 0.28373278 0.24353789 0.69996012 0.32216129\n",
      "  0.21545062 0.31760596 0.94283187 0.50111179]\n",
      " [0.39395224 0.92582496 0.0681454  0.33917734 0.30336332 0.59356382\n",
      "  0.95403594 0.77772202 0.93483028 0.47048673]\n",
      " [0.86622543 0.55322266 0.53383907 0.22449002 0.86859987 0.92737266\n",
      "  0.71467931 0.41277439 0.65184648 0.94203393]\n",
      " [0.61186889 0.85885152 0.19588158 0.51624911 0.66141612 0.87452699\n",
      "  0.21600269 0.22334738 0.19776894 0.24533736]\n",
      " [0.29667469 0.53847284 0.23943265 0.01153481 0.86015503 0.62079845\n",
      "  0.11205275 0.95086119 0.73304616 0.22541442]]\n"
     ]
    },
    {
     "data": {
      "text/plain": [
       "0.011534807933695546"
      ]
     },
     "execution_count": 66,
     "metadata": {},
     "output_type": "execute_result"
    }
   ],
   "source": [
    "# 9. Create a 10x10 array with random values and find the minimum and maximum values (★☆☆)\n",
    "\n",
    "a = np.random.random((10,10))\n",
    "print(a)\n",
    "np.min(a)\n"
   ]
  },
  {
   "cell_type": "code",
   "execution_count": 67,
   "id": "0dc9483e",
   "metadata": {},
   "outputs": [
    {
     "data": {
      "text/plain": [
       "0.9901070051396262"
      ]
     },
     "execution_count": 67,
     "metadata": {},
     "output_type": "execute_result"
    }
   ],
   "source": [
    "#inimum and maximum values \n",
    "np.max(a)"
   ]
  },
  {
   "cell_type": "code",
   "execution_count": 78,
   "id": "cc2578a8",
   "metadata": {},
   "outputs": [
    {
     "data": {
      "text/plain": [
       "array([0.95581564, 0.46275769, 0.09429016, 0.45984687, 0.61567093,\n",
       "       0.87273046, 0.03294104, 0.29658733, 0.89626195, 0.8665892 ,\n",
       "       0.61606208, 0.58167994, 0.03563714, 0.15867082, 0.33034247,\n",
       "       0.01415451, 0.31552962, 0.68363684, 0.47292083, 0.69820467,\n",
       "       0.05614423, 0.21601106, 0.70170057, 0.70229899, 0.67304956,\n",
       "       0.07709044, 0.46813566, 0.51347076, 0.59622686, 0.7293185 ])"
      ]
     },
     "execution_count": 78,
     "metadata": {},
     "output_type": "execute_result"
    }
   ],
   "source": [
    "# 10. Create a random vector of size 30 and find the mean value (★☆☆)\n",
    "a = np.random.random(30)\n",
    "a"
   ]
  },
  {
   "cell_type": "code",
   "execution_count": 79,
   "id": "f68c6726",
   "metadata": {},
   "outputs": [
    {
     "data": {
      "text/plain": [
       "0.47312589384307024"
      ]
     },
     "execution_count": 79,
     "metadata": {},
     "output_type": "execute_result"
    }
   ],
   "source": [
    "#find the mean value \n",
    "np.mean(a)"
   ]
  },
  {
   "cell_type": "code",
   "execution_count": 152,
   "id": "ea7a658a",
   "metadata": {},
   "outputs": [
    {
     "data": {
      "text/plain": [
       "array([[1, 0, 0, 0, 0],\n",
       "       [0, 2, 0, 0, 0],\n",
       "       [0, 0, 3, 0, 0],\n",
       "       [0, 0, 0, 4, 0],\n",
       "       [0, 0, 0, 0, 5]])"
      ]
     },
     "execution_count": 152,
     "metadata": {},
     "output_type": "execute_result"
    }
   ],
   "source": [
    "# 11. Create a 5x5 matrix with values 1,2,3,4 just below the diagonal (★☆☆)\n",
    "a = np.diag([1,2,3,4,5])\n",
    "a"
   ]
  },
  {
   "cell_type": "code",
   "execution_count": 95,
   "id": "da247f5c",
   "metadata": {},
   "outputs": [
    {
     "data": {
      "text/plain": [
       "array([[0.5033588 , 0.34223132, 0.37277208, 0.13065458, 0.03547912],\n",
       "       [0.61494171, 0.18578073, 0.45662028, 0.17784572, 0.69484932],\n",
       "       [0.03128019, 0.54190109, 0.70652017, 0.70589343, 0.91482206],\n",
       "       [0.96854306, 0.2801239 , 0.36151512, 0.22395102, 0.52890256],\n",
       "       [0.30478312, 0.65525826, 0.63982814, 0.47782394, 0.73393605]])"
      ]
     },
     "execution_count": 95,
     "metadata": {},
     "output_type": "execute_result"
    }
   ],
   "source": [
    "# 12. Normalize a 5x5 random matrix (★☆☆)\n",
    "a=np.random.random((5,5))\n",
    "a"
   ]
  },
  {
   "cell_type": "code",
   "execution_count": 98,
   "id": "9d8f09e8",
   "metadata": {},
   "outputs": [
    {
     "data": {
      "text/plain": [
       "array([[ 0.15744955, -0.48038775, -0.35948946, -1.31793285, -1.69469324],\n",
       "       [ 0.59916028, -1.09971112, -0.027569  , -1.13112258,  0.91548157],\n",
       "       [-1.71131508,  0.31002259,  0.96168166,  0.95920066,  1.78626297],\n",
       "       [ 1.99892228, -0.72624541, -0.40405112, -0.94861069,  0.25856677],\n",
       "       [-0.62862973,  0.75875691,  0.69767541,  0.05636754,  1.07020985]])"
      ]
     },
     "execution_count": 98,
     "metadata": {},
     "output_type": "execute_result"
    }
   ],
   "source": [
    "#Normalized\n",
    "a=(a -np.mean(a))/np.std(a)\n",
    "a"
   ]
  },
  {
   "cell_type": "code",
   "execution_count": 99,
   "id": "bcd6f163",
   "metadata": {},
   "outputs": [
    {
     "data": {
      "text/plain": [
       "(array([0, 1, 2]), array([1, 2, 3]))"
      ]
     },
     "execution_count": 99,
     "metadata": {},
     "output_type": "execute_result"
    }
   ],
   "source": [
    "# 13. How to find common values between two arrays? (★☆☆)\n",
    "a=np.arange(0,3)\n",
    "b=np.arange(1,4)\n",
    "a,b"
   ]
  },
  {
   "cell_type": "code",
   "execution_count": 100,
   "id": "f3007cf5",
   "metadata": {},
   "outputs": [
    {
     "data": {
      "text/plain": [
       "array([1, 2])"
      ]
     },
     "execution_count": 100,
     "metadata": {},
     "output_type": "execute_result"
    }
   ],
   "source": [
    "np.intersect1d(a,b)\n"
   ]
  },
  {
   "cell_type": "code",
   "execution_count": 104,
   "id": "a51b7da9",
   "metadata": {},
   "outputs": [
    {
     "data": {
      "text/plain": [
       "array([0.00282626, 0.13786616, 0.65195365, 0.30984929, 0.03129226,\n",
       "       0.23841463, 0.13805066, 0.70779735, 0.83991599, 0.10158354])"
      ]
     },
     "execution_count": 104,
     "metadata": {},
     "output_type": "execute_result"
    }
   ],
   "source": [
    "# 14. Create a random vector of size 10 and sort it (★★☆)\n",
    "a=np.random.random(10)\n",
    "a"
   ]
  },
  {
   "cell_type": "code",
   "execution_count": 106,
   "id": "5ccc49db",
   "metadata": {},
   "outputs": [
    {
     "data": {
      "text/plain": [
       "array([0.00282626, 0.03129226, 0.10158354, 0.13786616, 0.13805066,\n",
       "       0.23841463, 0.30984929, 0.65195365, 0.70779735, 0.83991599])"
      ]
     },
     "execution_count": 106,
     "metadata": {},
     "output_type": "execute_result"
    }
   ],
   "source": [
    "a=np.sort(a)\n",
    "a"
   ]
  },
  {
   "cell_type": "code",
   "execution_count": 118,
   "id": "8181c51b",
   "metadata": {},
   "outputs": [
    {
     "data": {
      "text/plain": [
       "array([0.52695319, 0.23712924, 0.16082478, 0.67735538, 0.75963762,\n",
       "       0.7814827 , 0.62049332, 0.85878521, 0.21075244, 0.29511775])"
      ]
     },
     "execution_count": 118,
     "metadata": {},
     "output_type": "execute_result"
    }
   ],
   "source": [
    "# 15. Create random vector of size 10 and replace the maximum value by 0 (★★☆)\n",
    "a=np.random.random(10)\n",
    "a"
   ]
  },
  {
   "cell_type": "code",
   "execution_count": 126,
   "id": "1505c415",
   "metadata": {},
   "outputs": [
    {
     "data": {
      "text/plain": [
       "5"
      ]
     },
     "execution_count": 126,
     "metadata": {},
     "output_type": "execute_result"
    }
   ],
   "source": [
    "b=np.argmax(a)\n",
    "b"
   ]
  },
  {
   "cell_type": "code",
   "execution_count": 128,
   "id": "79657151",
   "metadata": {},
   "outputs": [
    {
     "data": {
      "text/plain": [
       "array([0.52695319, 0.23712924, 0.16082478, 0.67735538, 0.75963762,\n",
       "       0.        , 0.62049332, 0.        , 0.21075244, 0.29511775])"
      ]
     },
     "execution_count": 128,
     "metadata": {},
     "output_type": "execute_result"
    }
   ],
   "source": [
    "a[5]=0\n",
    "a"
   ]
  },
  {
   "cell_type": "code",
   "execution_count": 137,
   "id": "39194067",
   "metadata": {},
   "outputs": [
    {
     "data": {
      "text/plain": [
       "array([[0.85112039, 0.56908138, 0.86836679],\n",
       "       [0.15008047, 0.89682124, 0.1623108 ],\n",
       "       [0.46890831, 0.57060164, 0.80554101]])"
      ]
     },
     "execution_count": 137,
     "metadata": {},
     "output_type": "execute_result"
    }
   ],
   "source": [
    "# 16. Subtract the mean of each row of a matrix (★★☆)\n",
    "a=np.random.random((3,3))\n",
    "a\n"
   ]
  },
  {
   "cell_type": "code",
   "execution_count": 160,
   "id": "d6dc577f",
   "metadata": {
    "scrolled": true
   },
   "outputs": [
    {
     "name": "stdout",
     "output_type": "stream",
     "text": [
      "[[0.2]\n",
      " [0.4]\n",
      " [0.6]\n",
      " [0.8]\n",
      " [1. ]]\n"
     ]
    }
   ],
   "source": [
    "b=np.mean(a, axis=1, keepdims=True)\n",
    "print(b)"
   ]
  },
  {
   "cell_type": "code",
   "execution_count": 162,
   "id": "0cb03be2",
   "metadata": {},
   "outputs": [
    {
     "data": {
      "text/plain": [
       "array([[ 0.8, -0.2, -0.2, -0.2, -0.2],\n",
       "       [-0.4,  1.6, -0.4, -0.4, -0.4],\n",
       "       [-0.6, -0.6,  2.4, -0.6, -0.6],\n",
       "       [-0.8, -0.8, -0.8,  3.2, -0.8],\n",
       "       [-1. , -1. , -1. , -1. ,  4. ]])"
      ]
     },
     "execution_count": 162,
     "metadata": {},
     "output_type": "execute_result"
    }
   ],
   "source": [
    "c=a-b\n",
    "c"
   ]
  },
  {
   "cell_type": "code",
   "execution_count": 163,
   "id": "cda20aa5",
   "metadata": {
    "scrolled": true
   },
   "outputs": [
    {
     "data": {
      "text/plain": [
       "array([5, 9, 8, 2, 0, 6, 3, 7, 4, 1])"
      ]
     },
     "execution_count": 163,
     "metadata": {},
     "output_type": "execute_result"
    }
   ],
   "source": [
    "# 17. How to get the n largest values of an array (★★★)\n",
    "a=np.arange(10)\n",
    "n=5\n",
    "b=np.argsort(a)\n",
    "b"
   ]
  },
  {
   "cell_type": "code",
   "execution_count": 147,
   "id": "3db4441c",
   "metadata": {},
   "outputs": [
    {
     "data": {
      "text/plain": [
       "array([[0.46810644, 0.74427102, 0.00895867],\n",
       "       [0.72575535, 0.12876493, 0.76186781],\n",
       "       [0.75032816, 0.53078148, 0.96986276],\n",
       "       [0.12764613, 0.20186851, 0.07349369],\n",
       "       [0.43339585, 0.10311588, 0.48976416]])"
      ]
     },
     "execution_count": 147,
     "metadata": {},
     "output_type": "execute_result"
    }
   ],
   "source": [
    "# 18. Create a random 5*3 matrix and replace items that are larger than 4 by their squares ( Example:  6 --> 36) \n",
    "a=np.random.random((5,3))\n",
    "a"
   ]
  },
  {
   "cell_type": "code",
   "execution_count": null,
   "id": "28cca845",
   "metadata": {},
   "outputs": [],
   "source": [
    "a=np.where"
   ]
  },
  {
   "cell_type": "code",
   "execution_count": null,
   "id": "514ca659",
   "metadata": {},
   "outputs": [],
   "source": [
    "`hint: np.where`"
   ]
  }
 ],
 "metadata": {
  "kernelspec": {
   "display_name": "Python 3 (ipykernel)",
   "language": "python",
   "name": "python3"
  },
  "language_info": {
   "codemirror_mode": {
    "name": "ipython",
    "version": 3
   },
   "file_extension": ".py",
   "mimetype": "text/x-python",
   "name": "python",
   "nbconvert_exporter": "python",
   "pygments_lexer": "ipython3",
   "version": "3.9.12"
  }
 },
 "nbformat": 4,
 "nbformat_minor": 5
}
